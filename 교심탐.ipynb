{
  "nbformat": 4,
  "nbformat_minor": 0,
  "metadata": {
    "colab": {
      "provenance": [],
      "authorship_tag": "ABX9TyPhaPapSIg/U28vSa9c5NM4",
      "include_colab_link": true
    },
    "kernelspec": {
      "name": "python3",
      "display_name": "Python 3"
    },
    "language_info": {
      "name": "python"
    }
  },
  "cells": [
    {
      "cell_type": "markdown",
      "metadata": {
        "id": "view-in-github",
        "colab_type": "text"
      },
      "source": [
        "<a href=\"https://colab.research.google.com/github/HyeeunKim07/example_UI/blob/main/%EA%B5%90%EC%8B%AC%ED%83%90.ipynb\" target=\"_parent\"><img src=\"https://colab.research.google.com/assets/colab-badge.svg\" alt=\"Open In Colab\"/></a>"
      ]
    },
    {
      "cell_type": "markdown",
      "source": [
        "# 마르코프 체인을 이용한 메뉴 추천 시스템"
      ],
      "metadata": {
        "id": "VuMbY841dvGy"
      }
    },
    {
      "cell_type": "code",
      "execution_count": null,
      "metadata": {
        "colab": {
          "base_uri": "https://localhost:8080/"
        },
        "id": "BfW7XqpcduHf",
        "outputId": "959b953a-36a8-45ed-e745-0a22f42fabcf"
      },
      "outputs": [
        {
          "output_type": "stream",
          "name": "stdout",
          "text": [
            "Transition Matrix:\n",
            "Espresso: {'Cappuccino': 0.6, 'Croissant': 0.4}\n",
            "Cappuccino: {'Croissant': 0.75, 'Espresso': 0.25}\n",
            "Croissant: {'Cappuccino': 0.3333333333333333, 'Espresso': 0.6666666666666666}\n",
            "Recommended menus after 'Espresso': ['Cappuccino', 'Croissant']\n",
            "\n",
            "Kiosk Menu Interface:\n",
            "['Cappuccino', 'Croissant', 'Espresso', 'Latte', 'Muffin']\n"
          ]
        }
      ],
      "source": [
        "import numpy as np\n",
        "import pandas as pd\n",
        "from collections import defaultdict\n",
        "\n",
        "# 1. 데이터 수집 (예시 데이터: 사용자가 선택한 메뉴 시퀀스)\n",
        "# 예: [['A', 'B', 'C'], ['A', 'C', 'B'], ['B', 'A', 'C']]\n",
        "menu_sequences = [\n",
        "    ['Espresso', 'Cappuccino', 'Croissant'],\n",
        "    ['Espresso', 'Croissant', 'Cappuccino'],\n",
        "    ['Cappuccino', 'Espresso', 'Croissant'],\n",
        "    ['Croissant', 'Espresso', 'Cappuccino'],\n",
        "    ['Espresso', 'Cappuccino', 'Croissant'],\n",
        "    ['Cappuccino', 'Croissant', 'Espresso']\n",
        "]\n",
        "\n",
        "# 2. 전이 행렬 계산\n",
        "def create_transition_matrix(sequences):\n",
        "    transition_counts = defaultdict(lambda: defaultdict(int))\n",
        "\n",
        "    for sequence in sequences:\n",
        "        for i in range(len(sequence) - 1):\n",
        "            current_item = sequence[i]\n",
        "            next_item = sequence[i + 1]\n",
        "            transition_counts[current_item][next_item] += 1\n",
        "\n",
        "    # 확률로 변환\n",
        "    transition_matrix = {}\n",
        "    for current_item, transitions in transition_counts.items():\n",
        "        total_transitions = sum(transitions.values())\n",
        "        transition_matrix[current_item] = {\n",
        "            next_item: count / total_transitions for next_item, count in transitions.items()\n",
        "        }\n",
        "\n",
        "    return transition_matrix\n",
        "\n",
        "transition_matrix = create_transition_matrix(menu_sequences)\n",
        "\n",
        "# 3. 전이 행렬 출력\n",
        "print(\"Transition Matrix:\")\n",
        "for current_item, transitions in transition_matrix.items():\n",
        "    print(f\"{current_item}: {transitions}\")\n",
        "\n",
        "# 4. 메뉴 인터페이스 재구성 (추천 메뉴 제공)\n",
        "def recommend_menu(transition_matrix, current_menu, top_n=3):\n",
        "    if current_menu not in transition_matrix:\n",
        "        return []  # 현재 메뉴에 대한 데이터가 없을 경우 빈 리스트 반환\n",
        "\n",
        "    # 가장 높은 확률의 다음 메뉴를 추천\n",
        "    next_menus = sorted(transition_matrix[current_menu].items(), key=lambda x: x[1], reverse=True)\n",
        "    return [menu for menu, prob in next_menus[:top_n]]\n",
        "\n",
        "# 현재 사용자가 선택한 메뉴를 기준으로 추천\n",
        "current_menu = 'Espresso'\n",
        "recommended_menus = recommend_menu(transition_matrix, current_menu)\n",
        "print(f\"Recommended menus after '{current_menu}': {recommended_menus}\")\n",
        "\n",
        "# 5. 사용자 인터페이스 예시 (키오스크 재구성)\n",
        "def generate_kiosk_interface(recommended_menus, all_menus):\n",
        "    # 추천 메뉴를 우선적으로 배치하고, 나머지 메뉴는 아래에 배치\n",
        "    interface = recommended_menus + [menu for menu in all_menus if menu not in recommended_menus]\n",
        "    return interface\n",
        "\n",
        "all_menus = ['Espresso', 'Cappuccino', 'Croissant', 'Latte', 'Muffin']\n",
        "kiosk_interface = generate_kiosk_interface(recommended_menus, all_menus)\n",
        "print(\"\\nKiosk Menu Interface:\")\n",
        "print(kiosk_interface)"
      ]
    },
    {
      "cell_type": "code",
      "source": [],
      "metadata": {
        "id": "9E-KwW53dzpS"
      },
      "execution_count": null,
      "outputs": []
    }
  ]
}